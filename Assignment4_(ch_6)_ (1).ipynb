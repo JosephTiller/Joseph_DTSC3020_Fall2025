{
 "cells": [
  {
   "cell_type": "markdown",
   "id": "-astqhkqk-sA",
   "metadata": {
    "id": "-astqhkqk-sA"
   },
   "source": [
    "#DTSC 3020 – Assignment 4\n",
    "Chapter 6 – Dictionaries\n",
    "\n",
    "Total points: 4\n",
    "\n",
    "Deadline: Friday at midnight\n",
    "\n",
    "Submission: Upload your Python file to your GitHub repository and submit only your GitHub link.\n",
    "\n",
    "\n",
    "Expectations\n",
    "Write complete answers and run all cells before submission.\n",
    "Keep the notebook clean (no unnecessary code)."
   ]
  },
  {
   "cell_type": "markdown",
   "id": "Iu8c7M_Rk9AH",
   "metadata": {
    "id": "Iu8c7M_Rk9AH"
   },
   "source": [
    "Exercise  1: Find and print the student with the lowest grade."
   ]
  },
  {
   "cell_type": "code",
   "execution_count": 1,
   "id": "qL5VY2kIk4Nc",
   "metadata": {
    "id": "qL5VY2kIk4Nc"
   },
   "outputs": [
    {
     "name": "stdout",
     "output_type": "stream",
     "text": [
      "The lowest grade is 16\n"
     ]
    }
   ],
   "source": [
    "grades = {\n",
    "    'Ali': 17,\n",
    "    'Sara': 19,\n",
    "    'Reza': 18.5,\n",
    "    'Lina': 20,\n",
    "    'Omid': 16\n",
    "}\n",
    "\n",
    "lowest_grade = min(grades.values())\n",
    "print(\"The lowest grade is\", lowest_grade)\n",
    "\n",
    "\n"
   ]
  },
  {
   "cell_type": "markdown",
   "id": "y880yRq6k58C",
   "metadata": {
    "id": "y880yRq6k58C"
   },
   "source": [
    "Exercise 2: print names of students who registered for any course containing \"Data\""
   ]
  },
  {
   "cell_type": "code",
   "execution_count": 6,
   "id": "tFfys48Iodlr",
   "metadata": {
    "id": "tFfys48Iodlr"
   },
   "outputs": [
    {
     "name": "stdout",
     "output_type": "stream",
     "text": [
      "Sara\n",
      "Reza\n"
     ]
    }
   ],
   "source": [
    "courses = {\n",
    "    'Ali': ['Python', 'Math'],\n",
    "    'Sara': ['Data Mining', 'Chemistry'],\n",
    "    'Reza': ['Machine Learning', 'Data Science'],\n",
    "    'Lina': ['English', 'History']\n",
    "}\n",
    "\n",
    "for name, subjects in courses.items():\n",
    "    for subject in subjects:\n",
    "        if \"Data\" in subject:\n",
    "            print(name)\n"
   ]
  },
  {
   "cell_type": "markdown",
   "id": "nUG5vQjeoWWE",
   "metadata": {
    "id": "nUG5vQjeoWWE"
   },
   "source": [
    "Exercise 3: Print titles of books that are not available."
   ]
  },
  {
   "cell_type": "code",
   "execution_count": 7,
   "id": "2kFBzKyloecs",
   "metadata": {
    "id": "2kFBzKyloecs"
   },
   "outputs": [
    {
     "name": "stdout",
     "output_type": "stream",
     "text": [
      "AI Basics\n",
      "Math Advanced\n"
     ]
    }
   ],
   "source": [
    "library = {\n",
    "    'Python101': {'pages': 180, 'available': True},\n",
    "    'AI Basics': {'pages': 130, 'available': False},\n",
    "    'Math Advanced': {'pages': 200, 'available': False},\n",
    "    'Statistics': {'pages': 175, 'available': True}\n",
    "}\n",
    "\n",
    "for title, info in library.items():\n",
    "    if not info['available']:\n",
    "        print(title)\n",
    "\n",
    "\n",
    "\n",
    "\n"
   ]
  },
  {
   "cell_type": "markdown",
   "id": "HA_jFJ3Ro2FJ",
   "metadata": {
    "id": "HA_jFJ3Ro2FJ"
   },
   "source": [
    "Exercise 4: Print names of students who are registered for more than 2 courses.\n"
   ]
  },
  {
   "cell_type": "code",
   "execution_count": 8,
   "id": "vYXKqs-jk43C",
   "metadata": {
    "id": "vYXKqs-jk43C"
   },
   "outputs": [
    {
     "name": "stdout",
     "output_type": "stream",
     "text": [
      "Sara\n",
      "Lina\n"
     ]
    }
   ],
   "source": [
    "\n",
    "registrations = {\n",
    "    'Ali': ['Python', 'Math'],\n",
    "    'Sara': ['Biology', 'Chemistry', 'Math'],\n",
    "    'Reza': ['English'],\n",
    "    'Lina': ['History', 'Physics', 'Geography', 'Art']\n",
    "}\n",
    "\n",
    "for name, courses in registrations.items():\n",
    "    if len(courses) > 2:\n",
    "        print(name)\n"
   ]
  },
  {
   "cell_type": "markdown",
   "id": "ZR7nhc-BpHvx",
   "metadata": {
    "id": "ZR7nhc-BpHvx"
   },
   "source": [
    "Exercise 5: Calculate and print the average grade of the class."
   ]
  },
  {
   "cell_type": "code",
   "execution_count": 9,
   "id": "6Xbt2zE8pGNJ",
   "metadata": {
    "id": "6Xbt2zE8pGNJ"
   },
   "outputs": [
    {
     "name": "stdout",
     "output_type": "stream",
     "text": [
      "18.1\n"
     ]
    }
   ],
   "source": [
    "grades = {\n",
    "    'Ali': 17,\n",
    "    'Sara': 19,\n",
    "    'Reza': 18.5,\n",
    "    'Lina': 20,\n",
    "    'Omid': 16\n",
    "}\n",
    "\n",
    "average = sum(grades.values()) / len(grades)\n",
    "print(average)\n",
    "\n"
   ]
  },
  {
   "cell_type": "markdown",
   "id": "U33R5aWYpev_",
   "metadata": {
    "id": "U33R5aWYpev_"
   },
   "source": [
    "Exercise 6: Count and print the number of students registered for \"Python\".\n"
   ]
  },
  {
   "cell_type": "code",
   "execution_count": 10,
   "id": "Wcjq96gVpliQ",
   "metadata": {
    "id": "Wcjq96gVpliQ"
   },
   "outputs": [
    {
     "name": "stdout",
     "output_type": "stream",
     "text": [
      "3\n"
     ]
    }
   ],
   "source": [
    "courses = {\n",
    "    'Ali': ['Python', 'Math'],\n",
    "    'Sara': ['Biology', 'Chemistry'],\n",
    "    'Reza': ['Python', 'AI'],\n",
    "    'Lina': ['English', 'History'],\n",
    "    'Omid': ['Python']\n",
    "}\n",
    "\n",
    "count = 0\n",
    "for subjects in courses.values():\n",
    "    if \"Python\" in subjects:\n",
    "        count += 1\n",
    "\n",
    "print(count)\n",
    "\n"
   ]
  },
  {
   "cell_type": "markdown",
   "id": "2tAWS80-p75f",
   "metadata": {
    "id": "2tAWS80-p75f"
   },
   "source": [
    "Exercise 7: Print titles of books with more than 200 pages."
   ]
  },
  {
   "cell_type": "code",
   "execution_count": 11,
   "id": "OxMTnraWp8Pf",
   "metadata": {
    "id": "OxMTnraWp8Pf"
   },
   "outputs": [
    {
     "name": "stdout",
     "output_type": "stream",
     "text": [
      "AI Basics\n",
      "Math Advanced\n",
      "Data Science\n"
     ]
    }
   ],
   "source": [
    "book_pages = {\n",
    "    'Python101': 180,\n",
    "    'AI Basics': 230,\n",
    "    'Math Advanced': 250,\n",
    "    'Statistics': 190,\n",
    "    'Data Science': 300\n",
    "}\n",
    "\n",
    "\n",
    "for title, pages in book_pages.items():\n",
    "    if pages > 200:\n",
    "        print(title)\n",
    "\n"
   ]
  },
  {
   "cell_type": "markdown",
   "id": "DTw2a77lqOL1",
   "metadata": {
    "id": "DTw2a77lqOL1"
   },
   "source": [
    "Exercise 8: Print each student's name and number of registered courses.\n"
   ]
  },
  {
   "cell_type": "code",
   "execution_count": 12,
   "id": "hFURuXPTqL8Y",
   "metadata": {
    "id": "hFURuXPTqL8Y"
   },
   "outputs": [
    {
     "name": "stdout",
     "output_type": "stream",
     "text": [
      "Ali 2\n",
      "Sara 2\n",
      "Reza 2\n",
      "Lina 2\n",
      "Omid 1\n"
     ]
    }
   ],
   "source": [
    "courses = {\n",
    "    'Ali': ['Python', 'Math'],\n",
    "    'Sara': ['Biology', 'Chemistry'],\n",
    "    'Reza': ['Python', 'AI'],\n",
    "    'Lina': ['English', 'History'],\n",
    "    'Omid': ['Python']\n",
    "}\n",
    "\n",
    "for name, subjects in courses.items():\n",
    "    print(name, len(subjects))\n"
   ]
  },
  {
   "cell_type": "markdown",
   "id": "3lHxe4qMqLm1",
   "metadata": {
    "id": "3lHxe4qMqLm1"
   },
   "source": []
  }
 ],
 "metadata": {
  "colab": {
   "provenance": []
  },
  "kernelspec": {
   "display_name": "Python 3",
   "language": "python",
   "name": "python3"
  },
  "language_info": {
   "codemirror_mode": {
    "name": "ipython",
    "version": 3
   },
   "file_extension": ".py",
   "mimetype": "text/x-python",
   "name": "python",
   "nbconvert_exporter": "python",
   "pygments_lexer": "ipython3",
   "version": "3.8.9"
  }
 },
 "nbformat": 4,
 "nbformat_minor": 5
}
