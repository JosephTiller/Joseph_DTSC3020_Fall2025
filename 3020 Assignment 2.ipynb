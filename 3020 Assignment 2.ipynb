{
 "cells": [
  {
   "cell_type": "code",
   "execution_count": 19,
   "id": "916fda43",
   "metadata": {},
   "outputs": [
    {
     "name": "stdout",
     "output_type": "stream",
     "text": [
      "['apple', 'banana', 'orange']\n",
      "apple\n",
      "banana\n",
      "orange\n"
     ]
    }
   ],
   "source": [
    "fruits = [\"apple\", \"banana\", \"orange\"]\n",
    "print(fruits)\n",
    "\n",
    "print(fruits[0])\n",
    "print(fruits[1])\n",
    "print(fruits[2])"
   ]
  },
  {
   "cell_type": "code",
   "execution_count": 10,
   "id": "2bcc2ec1",
   "metadata": {},
   "outputs": [
    {
     "name": "stdout",
     "output_type": "stream",
     "text": [
      "['Cooler Josh', 'Joseph', 'Jackson', 'Bob']\n"
     ]
    }
   ],
   "source": [
    "names = [\"Josh\", \"Joseph\", \"Jackson\", \"Bob\"]\n",
    "names[0] = \"Cooler Josh\"\n",
    "print(names)"
   ]
  },
  {
   "cell_type": "code",
   "execution_count": 11,
   "id": "528f1c7c",
   "metadata": {},
   "outputs": [
    {
     "name": "stdout",
     "output_type": "stream",
     "text": [
      "['car', 'bus', 'bike', 'helicopter', 'van', 'skateboard']\n"
     ]
    }
   ],
   "source": [
    "vehicles = [\"car\", \"bus\", \"bike\", \"helicopter\", \"van\"]\n",
    "vehicles.append(\"skateboard\")\n",
    "print(vehicles)"
   ]
  },
  {
   "cell_type": "code",
   "execution_count": 12,
   "id": "719b7d64",
   "metadata": {},
   "outputs": [
    {
     "name": "stdout",
     "output_type": "stream",
     "text": [
      "['chicken', 'beef', 'yogurt', 'fries', 'pizza']\n"
     ]
    }
   ],
   "source": [
    "foods = [\"chicken\", \"beef\", \"yogurt\", \"fries\", \"ham\", \"pizza\"]\n",
    "foods.remove(\"ham\")\n",
    "print(foods)"
   ]
  },
  {
   "cell_type": "code",
   "execution_count": 13,
   "id": "685fff55",
   "metadata": {},
   "outputs": [
    {
     "name": "stdout",
     "output_type": "stream",
     "text": [
      "['Houston', 'Dallas', 'Boston', 'Austin']\n"
     ]
    }
   ],
   "source": [
    "cities = [\"Dallas\", \"Houston\", \"Austin\", \"Boston\"]\n",
    "cities.sort()\n",
    "cities.reverse()\n",
    "print(cities)"
   ]
  },
  {
   "cell_type": "code",
   "execution_count": 17,
   "id": "a8d2f44c",
   "metadata": {},
   "outputs": [
    {
     "name": "stdout",
     "output_type": "stream",
     "text": [
      "cheetahh\n",
      "lion\n",
      "tiger\n"
     ]
    }
   ],
   "source": [
    "animals = [\"cheetahh\", \"lion\", \"tiger\"]\n",
    "for i in animals:\n",
    "    print(i)"
   ]
  },
  {
   "cell_type": "code",
   "execution_count": 20,
   "id": "446ffc82",
   "metadata": {},
   "outputs": [
    {
     "name": "stdout",
     "output_type": "stream",
     "text": [
      "2\n",
      "4\n",
      "6\n",
      "8\n",
      "10\n"
     ]
    }
   ],
   "source": [
    "numbers = [1, 2, 3, 4, 5]\n",
    "for i in numbers:\n",
    "    print(i * 2)"
   ]
  },
  {
   "cell_type": "code",
   "execution_count": 21,
   "id": "b5081f41",
   "metadata": {},
   "outputs": [
    {
     "name": "stdout",
     "output_type": "stream",
     "text": [
      "['Billy', 'Bob', 'Joe']\n",
      "['Mickey', 'Minnie', 'Goofy']\n"
     ]
    }
   ],
   "source": [
    "friends = [\"Billy\", \"Bob\", \"Joe\", \"Mickey\", \"Minnie\", \"Goofy\"]\n",
    "print(friends[:3])\n",
    "print(friends[-3:])"
   ]
  },
  {
   "cell_type": "code",
   "execution_count": 22,
   "id": "7413e21f",
   "metadata": {},
   "outputs": [
    {
     "name": "stdout",
     "output_type": "stream",
     "text": [
      "[1, 2, 3, 4, 5, 6, 7, 8, 9, 10]\n"
     ]
    }
   ],
   "source": [
    "numbers = list(range(1, 11))\n",
    "print(numbers)"
   ]
  },
  {
   "cell_type": "code",
   "execution_count": null,
   "id": "c9c0d7e8",
   "metadata": {},
   "outputs": [],
   "source": [
    "squares = "
   ]
  }
 ],
 "metadata": {
  "kernelspec": {
   "display_name": "Python 3",
   "language": "python",
   "name": "python3"
  },
  "language_info": {
   "codemirror_mode": {
    "name": "ipython",
    "version": 3
   },
   "file_extension": ".py",
   "mimetype": "text/x-python",
   "name": "python",
   "nbconvert_exporter": "python",
   "pygments_lexer": "ipython3",
   "version": "3.8.9"
  }
 },
 "nbformat": 4,
 "nbformat_minor": 5
}
